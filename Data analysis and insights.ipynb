{
 "cells": [
  {
   "cell_type": "code",
   "execution_count": 7,
   "metadata": {},
   "outputs": [],
   "source": [
    "import pandas as pd\n",
    "import matplotlib.pyplot as plt"
   ]
  },
  {
   "cell_type": "code",
   "execution_count": 13,
   "metadata": {},
   "outputs": [
    {
     "name": "stdout",
     "output_type": "stream",
     "text": [
      "<class 'pandas.core.frame.DataFrame'>\n",
      "RangeIndex: 247 entries, 0 to 246\n",
      "Data columns (total 5 columns):\n",
      " #   Column        Non-Null Count  Dtype \n",
      "---  ------        --------------  ----- \n",
      " 0   Year          247 non-null    int64 \n",
      " 1   Order Number  247 non-null    object\n",
      " 2   Date          247 non-null    object\n",
      " 3   Total Price   238 non-null    object\n",
      " 4   Product       247 non-null    object\n",
      "dtypes: int64(1), object(4)\n",
      "memory usage: 9.8+ KB\n"
     ]
    }
   ],
   "source": [
    "# Load the data\n",
    "df = pd.read_csv(\"amazon_orders.csv\")\n",
    "\n",
    "# Display the first few rows\n",
    "df.head()\n",
    "df.info()"
   ]
  },
  {
   "cell_type": "code",
   "execution_count": 14,
   "metadata": {},
   "outputs": [
    {
     "name": "stdout",
     "output_type": "stream",
     "text": [
      "Year            0\n",
      "Order Number    0\n",
      "Date            0\n",
      "Total Price     9\n",
      "Product         0\n",
      "dtype: int64\n"
     ]
    },
    {
     "data": {
      "text/html": [
       "<div>\n",
       "<style scoped>\n",
       "    .dataframe tbody tr th:only-of-type {\n",
       "        vertical-align: middle;\n",
       "    }\n",
       "\n",
       "    .dataframe tbody tr th {\n",
       "        vertical-align: top;\n",
       "    }\n",
       "\n",
       "    .dataframe thead th {\n",
       "        text-align: right;\n",
       "    }\n",
       "</style>\n",
       "<table border=\"1\" class=\"dataframe\">\n",
       "  <thead>\n",
       "    <tr style=\"text-align: right;\">\n",
       "      <th></th>\n",
       "      <th>Year</th>\n",
       "      <th>Order Number</th>\n",
       "      <th>Date</th>\n",
       "      <th>Total Price</th>\n",
       "      <th>Product</th>\n",
       "      <th>Month</th>\n",
       "      <th>Month_Num</th>\n",
       "      <th>Day_of_Week</th>\n",
       "    </tr>\n",
       "  </thead>\n",
       "  <tbody>\n",
       "    <tr>\n",
       "      <th>0</th>\n",
       "      <td>2024</td>\n",
       "      <td>408-2652756-4522741</td>\n",
       "      <td>2024-12-19</td>\n",
       "      <td>4545.0</td>\n",
       "      <td>Philips Cordless Epilator– All-Rounder for Fac...</td>\n",
       "      <td>Dec</td>\n",
       "      <td>12</td>\n",
       "      <td>Thursday</td>\n",
       "    </tr>\n",
       "    <tr>\n",
       "      <th>1</th>\n",
       "      <td>2024</td>\n",
       "      <td>408-4122061-0998700</td>\n",
       "      <td>2024-12-02</td>\n",
       "      <td>8999.0</td>\n",
       "      <td>Aquaguard Sure Delight NXT 6-Stage Water Purif...</td>\n",
       "      <td>Dec</td>\n",
       "      <td>12</td>\n",
       "      <td>Monday</td>\n",
       "    </tr>\n",
       "    <tr>\n",
       "      <th>2</th>\n",
       "      <td>2024</td>\n",
       "      <td>408-0433893-3521114</td>\n",
       "      <td>2024-12-02</td>\n",
       "      <td>0.0</td>\n",
       "      <td>Kitchen Installation Service by Eureka Forbes</td>\n",
       "      <td>Dec</td>\n",
       "      <td>12</td>\n",
       "      <td>Monday</td>\n",
       "    </tr>\n",
       "    <tr>\n",
       "      <th>3</th>\n",
       "      <td>2024</td>\n",
       "      <td>408-6100760-7361151</td>\n",
       "      <td>2024-11-28</td>\n",
       "      <td>147.0</td>\n",
       "      <td>Ferrai Girl's Stretchable Belt Pack of 1 Black...</td>\n",
       "      <td>Nov</td>\n",
       "      <td>11</td>\n",
       "      <td>Thursday</td>\n",
       "    </tr>\n",
       "    <tr>\n",
       "      <th>4</th>\n",
       "      <td>2024</td>\n",
       "      <td>408-5313454-9553129</td>\n",
       "      <td>2024-11-28</td>\n",
       "      <td>645.0</td>\n",
       "      <td>Harpic Limescale Remover 750ml</td>\n",
       "      <td>Nov</td>\n",
       "      <td>11</td>\n",
       "      <td>Thursday</td>\n",
       "    </tr>\n",
       "  </tbody>\n",
       "</table>\n",
       "</div>"
      ],
      "text/plain": [
       "   Year         Order Number       Date  Total Price  \\\n",
       "0  2024  408-2652756-4522741 2024-12-19       4545.0   \n",
       "1  2024  408-4122061-0998700 2024-12-02       8999.0   \n",
       "2  2024  408-0433893-3521114 2024-12-02          0.0   \n",
       "3  2024  408-6100760-7361151 2024-11-28        147.0   \n",
       "4  2024  408-5313454-9553129 2024-11-28        645.0   \n",
       "\n",
       "                                             Product Month  Month_Num  \\\n",
       "0  Philips Cordless Epilator– All-Rounder for Fac...   Dec         12   \n",
       "1  Aquaguard Sure Delight NXT 6-Stage Water Purif...   Dec         12   \n",
       "2      Kitchen Installation Service by Eureka Forbes   Dec         12   \n",
       "3  Ferrai Girl's Stretchable Belt Pack of 1 Black...   Nov         11   \n",
       "4                     Harpic Limescale Remover 750ml   Nov         11   \n",
       "\n",
       "  Day_of_Week  \n",
       "0    Thursday  \n",
       "1      Monday  \n",
       "2      Monday  \n",
       "3    Thursday  \n",
       "4    Thursday  "
      ]
     },
     "execution_count": 14,
     "metadata": {},
     "output_type": "execute_result"
    }
   ],
   "source": [
    "# Check for missing values\n",
    "print(df.isnull().sum())\n",
    "\n",
    "# Drop empty rows if necessary\n",
    "df.dropna(inplace=True)\n",
    "\n",
    "# Convert 'Total Price' to numeric (remove currency symbols)\n",
    "df[\"Total Price\"] = df[\"Total Price\"].replace('[₹,]', '', regex=True).astype(float)\n",
    "\n",
    "# Convert 'Date' column to datetime format\n",
    "df['Date'] = pd.to_datetime(df['Date'], format='%d-%b-%y')\n",
    "\n",
    "# Extract month and day of the week for analysis\n",
    "df['Month'] = df['Date'].dt.strftime('%b')  # Short month name\n",
    "df['Month_Num'] = df['Date'].dt.month       # Month number for sorting\n",
    "df['Day_of_Week'] = df['Date'].dt.day_name()  # Day of the week\n",
    "\n",
    "\n",
    "# Display the cleaned data\n",
    "df.head()\n"
   ]
  },
  {
   "cell_type": "code",
   "execution_count": null,
   "metadata": {},
   "outputs": [
    {
     "data": {
      "image/png": "[encoded data removed]",
      "text/plain": [
       "<Figure size 800x500 with 1 Axes>"
      ]
     },
     "metadata": {},
     "output_type": "display_data"
    }
   ],
   "source": [
    "# Group by Year and sum Total Price\n",
    "yearly_spending = df.groupby(\"Year\")[\"Total Price\"].sum()\n",
    "\n",
    "# Plot\n",
    "plt.figure(figsize=(8,5))\n",
    "yearly_spending.plot(kind=\"bar\", color=\"royalblue\")\n",
    "plt.xlabel(\"Year\")\n",
    "plt.ylabel(\"Total Spent (₹)\")\n",
    "plt.title(\"Total Spending Per Year\")\n",
    "plt.xticks(rotation=0)\n",
    "plt.show()\n"
   ]
  },
  {
   "cell_type": "code",
   "execution_count": null,
   "metadata": {},
   "outputs": [],
   "source": []
  }
 ],
 "metadata": {
  "kernelspec": {
   "display_name": "scraping_env",
   "language": "python",
   "name": "python3"
  },
  "language_info": {
   "codemirror_mode": {
    "name": "ipython",
    "version": 3
   },
   "file_extension": ".py",
   "mimetype": "text/x-python",
   "name": "python",
   "nbconvert_exporter": "python",
   "pygments_lexer": "ipython3",
   "version": "3.12.7"
  }
 },
 "nbformat": 4,
 "nbformat_minor": 2
}
